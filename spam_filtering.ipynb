{
 "cells": [
  {
   "cell_type": "code",
   "execution_count": 1,
   "id": "46b06768",
   "metadata": {},
   "outputs": [],
   "source": [
    "import math \n",
    "\n",
    "from main import NaiveBayesClassifier\n",
    "from utils import Message, tokenize \n",
    "\n",
    "from io import BytesIO      # so we can treat bytes as a file \n",
    "import requests             # to download the files, which \n",
    "import tarfile              # are in .tar.bz format \n",
    "import glob, re\n",
    "\n",
    "from typing import List\n",
    "from collections import Counter \n",
    "import random \n",
    "import os \n",
    "\n",
    "from sklearn.model_selection import train_test_split\n",
    "from sklearn.metrics import confusion_matrix, classification_report \n",
    "\n",
    "import matplotlib.pyplot as plt \n",
    "import seaborn as sns \n",
    "sns.set()\n",
    "\n",
    "%matplotlib inline "
   ]
  },
  {
   "cell_type": "markdown",
   "id": "70809666",
   "metadata": {},
   "source": [
    "# Testing the model "
   ]
  },
  {
   "cell_type": "code",
   "execution_count": 2,
   "id": "e0f2f290",
   "metadata": {},
   "outputs": [],
   "source": [
    "assert tokenize(\"Data science is science\") == {\"data\", \"science\", \"is\"}    # test if True "
   ]
  },
  {
   "cell_type": "markdown",
   "id": "d8db2861",
   "metadata": {},
   "source": [
    "Writing some unit tests for our model to check that it works well: "
   ]
  },
  {
   "cell_type": "code",
   "execution_count": 3,
   "id": "606b2e70",
   "metadata": {},
   "outputs": [],
   "source": [
    "# define the train dataset \n",
    "messages = [Message(\"spam rules\", is_spam=True), \n",
    "            Message(\"ham rules\", is_spam=False), \n",
    "            Message(\"hello ham\", is_spam=False)]\n",
    "\n",
    "model = NaiveBayesClassifier(k=0.5)\n",
    "model.train(messages)     # train our model "
   ]
  },
  {
   "cell_type": "markdown",
   "id": "0de3dbdb",
   "metadata": {},
   "source": [
    "Let's check that it got the counts right: "
   ]
  },
  {
   "cell_type": "code",
   "execution_count": 4,
   "id": "e400f746",
   "metadata": {},
   "outputs": [],
   "source": [
    "# check all the attributes of our model \n",
    "assert model.tokens == {\"spam\", \"ham\", \"rules\", \"hello\"}    # check the vocabulary \n",
    "assert model.spam_messages == 1 \n",
    "assert model.ham_messages == 2 \n",
    "assert model.token_spam_counts == {\"spam\": 1, \"rules\": 1}\n",
    "assert model.token_ham_counts == {\"ham\": 2, \"rules\": 1, \"hello\": 1}"
   ]
  },
  {
   "cell_type": "markdown",
   "id": "dbd3b719",
   "metadata": {},
   "source": [
    "Now, let's make a prediction. We'll also go through our Naive Bayes logic by hand, and make sure that we get the same result: "
   ]
  },
  {
   "cell_type": "code",
   "execution_count": 5,
   "id": "dbe269e0",
   "metadata": {},
   "outputs": [
    {
     "data": {
      "text/plain": [
       "0.8350515463917525"
      ]
     },
     "execution_count": 5,
     "metadata": {},
     "output_type": "execute_result"
    }
   ],
   "source": [
    "text = \"hello spam\"\n",
    "\n",
    "probs_if_spam = [\n",
    "    (1 + 0.5) / (1 + 2 * 0.5), # \"spam\" (present)\n",
    "    1 - (0 + 0.5) / (1 + 2 * 0.5), # \"ham\" (not present)\n",
    "    1 - (1 + 0.5) / (1 + 2 * 0.5), # \"rules\" (not present)\n",
    "    (0 + 0.5) / (1 + 2 * 0.5) # \"hello\" (present)\n",
    "]\n",
    "\n",
    "probs_if_ham = [\n",
    "    (0 + 0.5) / (2 + 2 * 0.5), # \"spam\" (present)\n",
    "    1 - (2 + 0.5) / (2 + 2 * 0.5), # \"ham\" (not present)\n",
    "    1 - (1 + 0.5) / (2 + 2 * 0.5), # \"rules\" (not present)\n",
    "    (1 + 0.5) / (2 + 2 * 0.5), # \"hello\" (present)\n",
    "]\n",
    "\n",
    "p_if_spam = math.exp(sum(math.log(p) for p in probs_if_spam))\n",
    "p_if_ham = math.exp(sum(math.log(p) for p in probs_if_ham))\n",
    "\n",
    "p_if_spam / (p_if_spam + p_if_ham)"
   ]
  },
  {
   "cell_type": "code",
   "execution_count": 6,
   "id": "ebfeccb4",
   "metadata": {},
   "outputs": [
    {
     "data": {
      "text/plain": [
       "0.8350515463917525"
      ]
     },
     "execution_count": 6,
     "metadata": {},
     "output_type": "execute_result"
    }
   ],
   "source": [
    "model.predict(text)"
   ]
  },
  {
   "cell_type": "code",
   "execution_count": 7,
   "id": "7240a307",
   "metadata": {},
   "outputs": [],
   "source": [
    "assert model.predict(text) == p_if_spam / (p_if_spam + p_if_ham)"
   ]
  },
  {
   "cell_type": "markdown",
   "id": "01bba24e",
   "metadata": {},
   "source": [
    "# Using our model"
   ]
  },
  {
   "cell_type": "code",
   "execution_count": 2,
   "id": "30ab615b",
   "metadata": {},
   "outputs": [],
   "source": [
    "BASE_URL = \"https://spamassassin.apache.org/old/publiccorpus\"\n",
    "FILES = [\"20021010_easy_ham.tar.bz2\",\n",
    "         \"20021010_hard_ham.tar.bz2\",\n",
    "         \"20021010_spam.tar.bz2\"]\n",
    "\n",
    "# This is where the data will end up, in\n",
    "# /spam, /easy_ham and /hard_ham subdirectories. \n",
    "# Change this to where you want the data. \n",
    "OUTPUT_DIR = 'spam_data'\n",
    "\n",
    "for filename in FILES: \n",
    "    # use requests to get the file contents at each URL\n",
    "    content = requests.get(f\"{BASE_URL}/{filename}\").content\n",
    "    \n",
    "    # wrap the in-memory bytes so we can use them as a file.\n",
    "    fin = BytesIO(content)\n",
    "    \n",
    "    # extract all the files to the specific output dir \n",
    "    with tarfile.open(fileobj=fin, mode='r:bz2') as tf: \n",
    "        tf.extractall(OUTPUT_DIR)"
   ]
  },
  {
   "cell_type": "code",
   "execution_count": 13,
   "id": "f12869c5",
   "metadata": {},
   "outputs": [
    {
     "data": {
      "text/plain": [
       "['easy_ham', 'hard_ham', 'spam']"
      ]
     },
     "execution_count": 13,
     "metadata": {},
     "output_type": "execute_result"
    }
   ],
   "source": [
    "os.listdir('spam_data')"
   ]
  },
  {
   "cell_type": "code",
   "execution_count": 15,
   "id": "d4c496ba",
   "metadata": {},
   "outputs": [
    {
     "name": "stdout",
     "output_type": "stream",
     "text": [
      "2551\n",
      "250\n",
      "501\n"
     ]
    }
   ],
   "source": [
    "for folder in os.listdir('spam_data'): \n",
    "    print(len(os.listdir(os.path.join('spam_data', folder))))"
   ]
  },
  {
   "cell_type": "code",
   "execution_count": 16,
   "id": "1fd57ff0",
   "metadata": {},
   "outputs": [
    {
     "data": {
      "text/plain": [
       "3302"
      ]
     },
     "execution_count": 16,
     "metadata": {},
     "output_type": "execute_result"
    }
   ],
   "source": [
    "2551 + 250 + 501"
   ]
  },
  {
   "cell_type": "markdown",
   "id": "418a765c",
   "metadata": {},
   "source": [
    "- Three folders: spam, easy_ham, and hard_ham. \n",
    "- Each folder contains many emails, each contained in a single file. \n",
    "- To keep things really simple, we’ll just look at the subject lines of each email."
   ]
  },
  {
   "cell_type": "code",
   "execution_count": 9,
   "id": "34a4f8ff",
   "metadata": {},
   "outputs": [],
   "source": [
    "path = 'spam_data/*/*'\n",
    "\n",
    "data: List[Message] = []\n",
    "\n",
    "# glob.glob returns every filename that matches the wildcarded path \n",
    "for filename in glob.glob(path): \n",
    "    is_spam = 'ham' not in filename                     # determine whether this file is spam or not \n",
    "    \n",
    "    # there are some garbage characters in the emails\n",
    "    # the erorrs='ignore' skips them instead of raising an exception \n",
    "    with open(filename, errors='ignore') as email_file: \n",
    "        for line in email_file: \n",
    "            if line.startswith(\"Subject:\"): \n",
    "                subject = line.lstrip(\"Subject: \")      # remove \"Subject: \" at the left of the string\n",
    "                data.append(Message(subject, is_spam))\n",
    "                break                                   # done with this file "
   ]
  },
  {
   "cell_type": "code",
   "execution_count": 10,
   "id": "ead906cc",
   "metadata": {},
   "outputs": [
    {
     "name": "stdout",
     "output_type": "stream",
     "text": [
      "3300\n"
     ]
    }
   ],
   "source": [
    "print(len(data))     # ignore 2 email having garbage characters "
   ]
  },
  {
   "cell_type": "code",
   "execution_count": 37,
   "id": "704c3928",
   "metadata": {},
   "outputs": [
    {
     "name": "stdout",
     "output_type": "stream",
     "text": [
      "2475\n",
      "825\n"
     ]
    }
   ],
   "source": [
    "# Split the data into training data and test data\n",
    "\n",
    "random.seed(0)       # to get the same answer \n",
    "\n",
    "train_msgs, test_msgs = train_test_split(data, test_size=0.25)\n",
    "\n",
    "print(len(train_msgs))\n",
    "print(len(test_msgs))"
   ]
  },
  {
   "cell_type": "code",
   "execution_count": 38,
   "id": "5887b329",
   "metadata": {},
   "outputs": [],
   "source": [
    "model = NaiveBayesClassifier()\n",
    "\n",
    "model.train(train_msgs)"
   ]
  },
  {
   "cell_type": "code",
   "execution_count": 46,
   "id": "1093727d",
   "metadata": {},
   "outputs": [
    {
     "name": "stdout",
     "output_type": "stream",
     "text": [
      "[[686  22]\n",
      " [ 39  78]]\n"
     ]
    }
   ],
   "source": [
    "# generate some predictions and check how our model does \n",
    "spam_probs = [model.predict(msg.text) for msg in test_msgs]      # prob of is_spam \n",
    "\n",
    "# assume that spam_prob > 0.5 corresponds to spam prediction \n",
    "preds = [spam_prob > 0.5 for spam_prob in spam_probs]\n",
    "labels = [msg.is_spam for msg in test_msgs]\n",
    "\n",
    "conf_matrix = confusion_matrix(labels, preds)     # labels = [False, True] = [ham, spam]\n",
    "print(conf_matrix)"
   ]
  },
  {
   "cell_type": "code",
   "execution_count": 47,
   "id": "1c90e7a0",
   "metadata": {},
   "outputs": [
    {
     "data": {
      "image/png": "[encoded data removed]",
      "text/plain": [
       "<Figure size 432x288 with 1 Axes>"
      ]
     },
     "metadata": {
      "needs_background": "light"
     },
     "output_type": "display_data"
    }
   ],
   "source": [
    "sns.heatmap(conf_matrix, square=True, annot=True, fmt='d', cbar=False, \n",
    "            xticklabels=['ham', 'spam'], \n",
    "            yticklabels=['ham', 'spam'])\n",
    "plt.xlabel('Predicted label')\n",
    "plt.ylabel('True label')\n",
    "plt.show()"
   ]
  },
  {
   "cell_type": "code",
   "execution_count": 44,
   "id": "68af3c70",
   "metadata": {},
   "outputs": [
    {
     "name": "stdout",
     "output_type": "stream",
     "text": [
      "              precision    recall  f1-score   support\n",
      "\n",
      "         ham       0.95      0.97      0.96       708\n",
      "        spam       0.78      0.67      0.72       117\n",
      "\n",
      "    accuracy                           0.93       825\n",
      "   macro avg       0.86      0.82      0.84       825\n",
      "weighted avg       0.92      0.93      0.92       825\n",
      "\n"
     ]
    }
   ],
   "source": [
    "print(classification_report(labels, preds, target_names=['ham', 'spam']))"
   ]
  },
  {
   "cell_type": "code",
   "execution_count": null,
   "id": "8edb7bbc",
   "metadata": {},
   "outputs": [],
   "source": []
  }
 ],
 "metadata": {
  "kernelspec": {
   "display_name": "Python 3 (ipykernel)",
   "language": "python",
   "name": "python3"
  },
  "language_info": {
   "codemirror_mode": {
    "name": "ipython",
    "version": 3
   },
   "file_extension": ".py",
   "mimetype": "text/x-python",
   "name": "python",
   "nbconvert_exporter": "python",
   "pygments_lexer": "ipython3",
   "version": "3.8.3"
  }
 },
 "nbformat": 4,
 "nbformat_minor": 5
}
